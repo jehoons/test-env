{
 "cells": [
  {
   "cell_type": "code",
   "execution_count": 15,
   "metadata": {},
   "outputs": [],
   "source": [
    "import os\n",
    "os.environ['PATH'] = os.environ['PATH'] + ':/root/share/standbr/dwpc'\n",
    "import sys\n",
    "sys.path.append('/root/share/standbr/standb-dwpc')"
   ]
  },
  {
   "cell_type": "markdown",
   "metadata": {},
   "source": [
    "### DWPC analysis is performed by 3 programs. \n",
    "\n",
    "- vis.py \n",
    "- cypher-shell \n",
    "- vis-post.py"
   ]
  },
  {
   "cell_type": "code",
   "execution_count": 2,
   "metadata": {},
   "outputs": [
    {
     "name": "stdout",
     "output_type": "stream",
     "text": [
      "/bin/sh: 1: vis.py: not found\n"
     ]
    }
   ],
   "source": [
    "# vis.py usage: \n",
    "!vis.py -h"
   ]
  },
  {
   "cell_type": "code",
   "execution_count": 3,
   "metadata": {},
   "outputs": [
    {
     "name": "stdout",
     "output_type": "stream",
     "text": [
      "usage: cypher-shell [-h] [-a ADDRESS] [-u USERNAME] [-p PASSWORD]\n",
      "                    [--encryption {true,false}]\n",
      "                    [--format {auto,verbose,plain}] [--debug]\n",
      "                    [--non-interactive] [-v] [--fail-fast | --fail-at-end]\n",
      "                    [cypher]\n",
      "\n",
      "A command line shell where you  can  execute  Cypher against an instance of\n",
      "Neo4j. By  default  the  shell  is  interactive  but  you  can  use  it for\n",
      "scripting by passing cypher directly  on  the  command  line or by piping a\n",
      "file with cypher statements (requires Powershell on Windows).\n",
      "\n",
      "example of piping a file:\n",
      "  cat some-cypher.txt | cypher-shell\n",
      "\n",
      "positional arguments:\n",
      "  cypher                 an optional string of  cypher  to execute and then\n",
      "                         exit\n",
      "\n",
      "optional arguments:\n",
      "  -h, --help             show this help message and exit\n",
      "  --fail-fast            exit  and  report  failure  on  first  error  when\n",
      "                         reading from file (this is the default behavior)\n",
      "  --fail-at-end          exit and report  failures  at  end  of  input when\n",
      "                         reading from file\n",
      "  --format {auto,verbose,plain}\n",
      "                         desired output  format,  verbose  displays results\n",
      "                         in tabular  format  and  prints  statistics, plain\n",
      "                         displays data  with  minimal  formatting (default:\n",
      "                         auto)\n",
      "  --debug                print  additional   debug   information  (default:\n",
      "                         false)\n",
      "  --non-interactive      force non-interactive mode,  only  useful if auto-\n",
      "                         detection fails (like on Windows) (default: false)\n",
      "  -v, --version          print version of  cypher-shell  and exit (default:\n",
      "                         false)\n",
      "\n",
      "connection arguments:\n",
      "  -a ADDRESS, --address ADDRESS\n",
      "                         address and port  to  connect  to  (default: bolt:\n",
      "                         //localhost:7687)\n",
      "  -u USERNAME, --username USERNAME\n",
      "                         username to  connect  as.  Can  also  be specified\n",
      "                         using    environment    variable    NEO4J_USERNAME\n",
      "                         (default: )\n",
      "  -p PASSWORD, --password PASSWORD\n",
      "                         password to connect  with.  Can  also be specified\n",
      "                         using    environment    variable    NEO4J_PASSWORD\n",
      "                         (default: )\n",
      "  --encryption {true,false}\n",
      "                         whether  the  connection   to   Neo4j   should  be\n",
      "                         encrypted;  must   be   consistent   with  Neo4j's\n",
      "                         configuration (default: true)\n"
     ]
    }
   ],
   "source": [
    "# cypher-shell usage: \n",
    "!cypher-shell -h"
   ]
  },
  {
   "cell_type": "code",
   "execution_count": 4,
   "metadata": {},
   "outputs": [
    {
     "name": "stdout",
     "output_type": "stream",
     "text": [
      "/bin/sh: 1: vis-post.py: not found\n"
     ]
    }
   ],
   "source": [
    "# vis-post.py usage: \n",
    "!vis-post.py -h"
   ]
  },
  {
   "cell_type": "code",
   "execution_count": 5,
   "metadata": {},
   "outputs": [
    {
     "name": "stdout",
     "output_type": "stream",
     "text": [
      "/bin/sh: 1: vis.py: not found\n",
      "/bin/sh: 1: vis-post.py: not found\n"
     ]
    }
   ],
   "source": [
    "!vis.py TTKB-02135 DOID:332 -p /root/share/standbr/dwpc/data/dhimmel-pattern-rev1.json -l 5 | cypher-shell -a 192.168.1.96:6687 | vis-post.py -w -n 20"
   ]
  },
  {
   "cell_type": "code",
   "execution_count": 6,
   "metadata": {},
   "outputs": [],
   "source": [
    "### compute graph "
   ]
  },
  {
   "cell_type": "code",
   "execution_count": 7,
   "metadata": {},
   "outputs": [
    {
     "name": "stdout",
     "output_type": "stream",
     "text": [
      "/bin/sh: 1: vis.py: not found\n",
      "/bin/sh: 1: vis-post.py: not found\n"
     ]
    }
   ],
   "source": [
    "!vis.py TTKB-02135 DOID:635 -p /root/share/standbr/dwpc/data/sang1-pattern.json -l 5 | cypher-shell -a 192.168.1.96:6687 | vis-post.py -w -n 200    "
   ]
  },
  {
   "cell_type": "code",
   "execution_count": 8,
   "metadata": {},
   "outputs": [],
   "source": [
    "### compute graph with table output. "
   ]
  },
  {
   "cell_type": "code",
   "execution_count": 9,
   "metadata": {},
   "outputs": [
    {
     "name": "stdout",
     "output_type": "stream",
     "text": [
      "/bin/sh: 1: vis.py: not found\n",
      "/bin/sh: 1: vis-post.py: not found\n"
     ]
    }
   ],
   "source": [
    "!vis.py TTKB-02135 DOID:635 -p /root/share/standbr/dwpc/data/sang1-pattern.json -l 5 | cypher-shell -a 192.168.1.96:6687 | vis-post.py -w -n 200 -t TTKB02135_DOID635_5.csv"
   ]
  },
  {
   "cell_type": "markdown",
   "metadata": {},
   "source": [
    "### Human readable path generation"
   ]
  },
  {
   "cell_type": "markdown",
   "metadata": {},
   "source": [
    "아래와 같이 UNWIND 문 및 Substring 문을 추가한다.\n",
    "\n",
    "```\n",
    "MATCH p0=(:Compound {identifier: 'TTKB-02135'})-[:DOWNREGULATES_CdG]-(:Gene {identifier: 8824})-[:UPREGULATES_DuG]-(:Disease {identifier: 'DOID:635'})\n",
    "MATCH p1=(:Compound {identifier: 'TTKB-02135'})-[:DOWNREGULATES_CdG]-(:Gene {identifier: 54438})-[:UPREGULATES_DuG]-(:Disease {identifier: 'DOID:635'})\n",
    "MATCH p2=(:Compound {identifier: 'TTKB-02135'})-[:DOWNREGULATES_CdG]-(:Gene {identifier: 9131})-[:UPREGULATES_DuG]-(:Disease {identifier: 'DOID:635'})\n",
    "MATCH p3=(:Compound {identifier: 'TTKB-02135'})-[:DOWNREGULATES_CdG]-(:Gene {identifier: 2108})-[:UPREGULATES_DuG]-(:Disease {identifier: 'DOID:635'})\n",
    "MATCH p4=(:Compound {identifier: 'TTKB-02135'})-[:DOWNREGULATES_CdG]-(:Gene {identifier: 488})-[:UPREGULATES_DuG]-(:Disease {identifier: 'DOID:635'})\n",
    "MATCH p5=(:Compound {identifier: 'TTKB-02135'})-[:UPREGULATES_CuG]-(:Gene {identifier: 79718})-[:DOWNREGULATES_DdG]-(:Disease {identifier: 'DOID:635'})\n",
    "MATCH p6=(:Compound {identifier: 'TTKB-02135'})-[:UPREGULATES_CuG]-(:Gene {identifier: 51747})-[:DOWNREGULATES_DdG]-(:Disease {identifier: 'DOID:635'})\n",
    "MATCH p7=(:Compound {identifier: 'TTKB-02135'})-[:UPREGULATES_CuG]-(:Gene {identifier: 55704})-[:DOWNREGULATES_DdG]-(:Disease {identifier: 'DOID:635'})\n",
    "MATCH p8=(:Compound {identifier: 'TTKB-02135'})-[:UPREGULATES_CuG]-(:Gene {identifier: 9747})-[:DOWNREGULATES_DdG]-(:Disease {identifier: 'DOID:635'})\n",
    "MATCH p9=(:Compound {identifier: 'TTKB-02135'})-[:UPREGULATES_CuG]-(:Gene {identifier: 7110})-[:DOWNREGULATES_DdG]-(:Disease {identifier: 'DOID:635'})\n",
    "\n",
    "WITH [p0,p1,p2,p3,p4,p5,p6,p7,p8,p9] AS paths\n",
    "\n",
    "UNWIND paths AS path\n",
    "\n",
    "RETURN substring(reduce(\n",
    "s = nodes(path)[0].name , \n",
    "rel IN relationships(path) | s + '–' + lower(split(type(rel),'_')[0]) + '-' + \n",
    "case \n",
    "when s  ends with (endNode(rel)).name then (startNode(rel)).name\n",
    "else\n",
    "endNode(rel).name\n",
    "end\n",
    "), 0) AS nodes\n",
    "\n",
    "```"
   ]
  },
  {
   "cell_type": "code",
   "execution_count": 10,
   "metadata": {},
   "outputs": [
    {
     "name": "stdout",
     "output_type": "stream",
     "text": [
      "/bin/sh: 1: vis.py: not found\n",
      "/bin/sh: 1: vis-post.py: not found\n"
     ]
    }
   ],
   "source": [
    "!vis.py TTKB-02135 DOID:1324 -l 5 | cypher-shell -a 192.168.1.96:6687 | vis-post.py -w -n 10"
   ]
  },
  {
   "cell_type": "code",
   "execution_count": 11,
   "metadata": {},
   "outputs": [
    {
     "name": "stdout",
     "output_type": "stream",
     "text": [
      "/bin/sh: 1: vis.py: not found\n",
      "/bin/sh: 1: vis-post.py: not found\n"
     ]
    }
   ],
   "source": [
    "!vis.py TTKB-02135 DOID:1324 -p /root/share/standbr/dwpc/data/dhimmel-pattern.json -l 10 | cypher-shell -a 192.168.1.96:6687 | vis-post.py -w -n 200 -t scratch.csv"
   ]
  },
  {
   "cell_type": "code",
   "execution_count": 12,
   "metadata": {},
   "outputs": [
    {
     "name": "stdout",
     "output_type": "stream",
     "text": [
      "/bin/sh: 1: vis.py: not found\n",
      "/bin/sh: 1: vis-post.py: not found\n"
     ]
    }
   ],
   "source": [
    "# test: \n",
    "\n",
    "!vis.py TTKB-02609 DOID:1324 -l 5 | cypher-shell -a 192.168.1.96:6687 | vis-post.py -w -n 100"
   ]
  },
  {
   "cell_type": "code",
   "execution_count": 13,
   "metadata": {},
   "outputs": [
    {
     "name": "stdout",
     "output_type": "stream",
     "text": [
      "/bin/sh: 1: vis.py: not found\n",
      "/bin/sh: 1: vis-post.py: not found\n"
     ]
    }
   ],
   "source": [
    "# test set\n",
    "!vis.py TTKB-02609 DOID:12365 -l 10 | cypher-shell -a 192.168.1.96:6687 | vis-post.py -w -n 10"
   ]
  },
  {
   "cell_type": "code",
   "execution_count": 14,
   "metadata": {},
   "outputs": [
    {
     "name": "stdout",
     "output_type": "stream",
     "text": [
      "/bin/sh: 1: vis.py: not found\n",
      "/bin/sh: 1: vis-post.py: not found\n"
     ]
    }
   ],
   "source": [
    "#  DB01156\n",
    "#   DISEASE_ID            enter diseae to process. i.e DOID:0050742\n",
    "\n",
    "!vis.py DB01156 DOID:0050742 -l 3 | cypher-shell -a 192.168.1.96:6687 | vis-post.py -w -n 50"
   ]
  },
  {
   "cell_type": "code",
   "execution_count": null,
   "metadata": {},
   "outputs": [],
   "source": []
  }
 ],
 "metadata": {
  "kernelspec": {
   "display_name": "Python 3",
   "language": "python",
   "name": "python3"
  },
  "language_info": {
   "codemirror_mode": {
    "name": "ipython",
    "version": 3
   },
   "file_extension": ".py",
   "mimetype": "text/x-python",
   "name": "python",
   "nbconvert_exporter": "python",
   "pygments_lexer": "ipython3",
   "version": "3.5.2"
  }
 },
 "nbformat": 4,
 "nbformat_minor": 2
}
