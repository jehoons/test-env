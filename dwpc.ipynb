{
 "cells": [
  {
   "cell_type": "code",
   "execution_count": 4,
   "metadata": {
    "slideshow": {
     "slide_type": "-"
    }
   },
   "outputs": [],
   "source": [
    "import os\n",
    "os.environ['PATH'] = os.environ['PATH'] + ':/root/share/standbr/dwpc'\n",
    "import sys\n",
    "sys.path.append('/root/share/standbr/dwpc')"
   ]
  },
  {
   "cell_type": "code",
   "execution_count": 5,
   "metadata": {},
   "outputs": [
    {
     "name": "stdout",
     "output_type": "stream",
     "text": [
      "MATCH p0=(:Compound {identifier: 'DB00238'})-[:BINDS_CbG]-(:Gene {identifier: 4521})-[:ASSOCIATES_DaG]-(:Disease {identifier: 'DOID:14330'})\n",
      "MATCH p1=(:Compound {identifier: 'DB00238'})-[:BINDS_CbG]-(:Gene {identifier: 1544})-[:ASSOCIATES_DaG]-(:Disease {identifier: 'DOID:14330'})\n",
      "MATCH p2=(:Compound {identifier: 'DB00238'})-[:BINDS_CbG]-(:Gene {identifier: 1565})-[:ASSOCIATES_DaG]-(:Disease {identifier: 'DOID:14330'})\n",
      "MATCH p3=(:Compound {identifier: 'DB00238'})-[:TREATS_CtD]-(:Disease {identifier: 'DOID:635'})-[:UPREGULATES_DuG]-(:Gene {identifier: 368})-[:UPREGULATES_DuG]-(:Disease {identifier: 'DOID:14330'})\n",
      "MATCH p4=(:Compound {identifier: 'DB00238'})-[:TREATS_CtD]-(:Disease {identifier: 'DOID:635'})-[:UPREGULATES_DuG]-(:Gene {identifier: 5763})-[:UPREGULATES_DuG]-(:Disease {identifier: 'DOID:14330'})\n",
      "MATCH p5=(:Compound {identifier: 'DB00238'})-[:TREATS_CtD]-(:Disease {identifier: 'DOID:635'})-[:UPREGULATES_DuG]-(:Gene {identifier: 6520})-[:UPREGULATES_DuG]-(:Disease {identifier: 'DOID:14330'})\n",
      "MATCH p6=(:Compound {identifier: 'DB00238'})-[:BINDS_CbG]-(:Gene {identifier: 6097})-[:INTERACTS_GiG]-(:Gene {identifier: 2123})-[:INTERACTS_GiG]-(:Gene {identifier: 55905})-[:ASSOCIATES_DaG]-(:Disease {identifier: 'DOID:14330'})\n",
      "MATCH p7=(:Compound {identifier: 'DB00238'})-[:BINDS_CbG]-(:Gene {identifier: 4521})-[:INTERACTS_GiG]-(:Gene {identifier: 8453})-[:ASSOCIATES_DaG]-(:Disease {identifier: 'DOID:14330'})\n",
      "MATCH p8=(:Compound {identifier: 'DB00238'})-[:TREATS_CtD]-(:Disease {identifier: 'DOID:635'})-[:DOWNREGULATES_DdG]-(:Gene {identifier: 7162})-[:DOWNREGULATES_DdG]-(:Disease {identifier: 'DOID:14330'})\n",
      "MATCH p9=(:Compound {identifier: 'DB00238'})-[:BINDS_CbG]-(:Gene {identifier: 6097})-[:PARTICIPATES_GpPW]-(:Pathway {identifier: 'standb:000001500'})-[:PARTICIPATES_GpPW]-(:Gene {identifier: 3683})-[:ASSOCIATES_DaG]-(:Disease {identifier: 'DOID:14330'})\n",
      "MATCH p10=(:Compound {identifier: 'DB00238'})-[:TREATS_CtD]-(:Disease {identifier: 'DOID:635'})-[:DOWNREGULATES_DdG]-(:Gene {identifier: 474343})-[:DOWNREGULATES_DdG]-(:Disease {identifier: 'DOID:14330'})\n",
      "MATCH p11=(:Compound {identifier: 'DB00238'})-[:TREATS_CtD]-(:Disease {identifier: 'DOID:635'})-[:DOWNREGULATES_DdG]-(:Gene {identifier: 116150})-[:DOWNREGULATES_DdG]-(:Disease {identifier: 'DOID:14330'})\n",
      "MATCH p12=(:Compound {identifier: 'DB00238'})-[:BINDS_CbG]-(:Gene {identifier: 8648})-[:INTERACTS_GiG]-(:Gene {identifier: 3170})-[:INTERACTS_GiG]-(:Gene {identifier: 2020})-[:ASSOCIATES_DaG]-(:Disease {identifier: 'DOID:14330'})\n",
      "MATCH p13=(:Compound {identifier: 'DB00238'})-[:BINDS_CbG]-(:Gene {identifier: 5950})-[:INTERACTS_GiG]-(:Gene {identifier: 213})-[:INTERACTS_GiG]-(:Gene {identifier: 29951})-[:ASSOCIATES_DaG]-(:Disease {identifier: 'DOID:14330'})\n",
      "MATCH p14=(:Compound {identifier: 'DB00238'})-[:BINDS_CbG]-(:Gene {identifier: 5950})-[:PARTICIPATES_GpPW]-(:Pathway {identifier: 'standb:000002077'})-[:PARTICIPATES_GpPW]-(:Gene {identifier: 127})-[:ASSOCIATES_DaG]-(:Disease {identifier: 'DOID:14330'})\n",
      "MATCH p15=(:Compound {identifier: 'DB00238'})-[:BINDS_CbG]-(:Gene {identifier: 8648})-[:INTERACTS_GiG]-(:Gene {identifier: 405})-[:ASSOCIATES_DaG]-(:Disease {identifier: 'DOID:14330'})\n",
      "MATCH p16=(:Compound {identifier: 'DB00238'})-[:BINDS_CbG]-(:Gene {identifier: 5950})-[:PARTICIPATES_GpPW]-(:Pathway {identifier: 'standb:000002077'})-[:PARTICIPATES_GpPW]-(:Gene {identifier: 124})-[:ASSOCIATES_DaG]-(:Disease {identifier: 'DOID:14330'})\n",
      "MATCH p17=(:Compound {identifier: 'DB00238'})-[:BINDS_CbG]-(:Gene {identifier: 4521})-[:PARTICIPATES_GpBP]-(:BiologicalProcess {identifier: 'GO:0042262'})-[:PARTICIPATES_GpBP]-(:Gene {identifier: 875})-[:ASSOCIATES_DaG]-(:Disease {identifier: 'DOID:14330'})\n",
      "MATCH p18=(:Compound {identifier: 'DB00238'})-[:BINDS_CbG]-(:Gene {identifier: 8648})-[:INTERACTS_GiG]-(:Gene {identifier: 10891})-[:ASSOCIATES_DaG]-(:Disease {identifier: 'DOID:14330'})\n",
      "MATCH p19=(:Compound {identifier: 'DB00238'})-[:BINDS_CbG]-(:Gene {identifier: 10062})-[:PARTICIPATES_GpBP]-(:BiologicalProcess {identifier: 'GO:0010745'})-[:PARTICIPATES_GpBP]-(:Gene {identifier: 23461})-[:ASSOCIATES_DaG]-(:Disease {identifier: 'DOID:14330'})\n",
      "RETURN [p0,p1,p2,p3,p4,p5,p6,p7,p8,p9,p10,p11,p12,p13,p14,p15,p16,p17,p18,p19]\n",
      ";\n"
     ]
    }
   ],
   "source": [
    "!vis.py DB00238 DOID:14330 -l 3 | cypher-shell -a 192.168.1.96:6687 | vis-post.py -w -n 20"
   ]
  },
  {
   "cell_type": "code",
   "execution_count": null,
   "metadata": {},
   "outputs": [],
   "source": [
    "!vis-post.py "
   ]
  },
  {
   "cell_type": "code",
   "execution_count": null,
   "metadata": {},
   "outputs": [],
   "source": [
    "!vis.py TTKB-02135 DOID:635 -p /root/share/standbr/cypher/dwpc/data/dhimmel-pattern-rev1.json -l 5 | cypher-shell -a 192.168.1.96:6687 | vis-post.py -w -n 200 -t TTKB02135_DOID635_5.csv"
   ]
  },
  {
   "cell_type": "code",
   "execution_count": null,
   "metadata": {},
   "outputs": [],
   "source": [
    "!vis.py TTKB-02609 DOID:2377 -l 5 | cypher-shell -a 192.168.1.96:6687 | vis-post.py -w -n 5"
   ]
  },
  {
   "cell_type": "code",
   "execution_count": 3,
   "metadata": {},
   "outputs": [
    {
     "name": "stdout",
     "output_type": "stream",
     "text": [
      "/root/share/notebook\n"
     ]
    }
   ],
   "source": [
    "!pwd"
   ]
  },
  {
   "cell_type": "code",
   "execution_count": 1,
   "metadata": {},
   "outputs": [
    {
     "name": "stdout",
     "output_type": "stream",
     "text": [
      "/bin/sh: 1: vis.py: not found\n",
      "/bin/sh: 1: vis-post.py: not found\n"
     ]
    }
   ],
   "source": [
    "!vis.py DB00238 DOID:14330 -l 3 | cypher-shell -a 192.168.1.96:6687 | vis-post.py -w -n 20"
   ]
  },
  {
   "cell_type": "code",
   "execution_count": null,
   "metadata": {},
   "outputs": [],
   "source": []
  }
 ],
 "metadata": {
  "kernelspec": {
   "display_name": "Python 3",
   "language": "python",
   "name": "python3"
  },
  "language_info": {
   "codemirror_mode": {
    "name": "ipython",
    "version": 3
   },
   "file_extension": ".py",
   "mimetype": "text/x-python",
   "name": "python",
   "nbconvert_exporter": "python",
   "pygments_lexer": "ipython3",
   "version": "3.5.2"
  }
 },
 "nbformat": 4,
 "nbformat_minor": 2
}
